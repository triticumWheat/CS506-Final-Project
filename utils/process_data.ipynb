{
 "cells": [
  {
   "cell_type": "code",
   "execution_count": 1,
   "metadata": {
    "collapsed": true,
    "ExecuteTime": {
     "end_time": "2024-11-06T02:54:44.885812400Z",
     "start_time": "2024-11-06T02:54:44.869810300Z"
    }
   },
   "outputs": [],
   "source": [
    "input_file = '../data/details.json'\n",
    "output_file = '../data/details_cleaned.json'\n",
    "classroom_json = '../data/classroom_data.json'"
   ]
  },
  {
   "cell_type": "markdown",
   "source": [
    "<h1>Data Cleaning</h1>"
   ],
   "metadata": {
    "collapsed": false
   }
  },
  {
   "cell_type": "code",
   "execution_count": null,
   "outputs": [],
   "source": [
    "def clean_large_json(input_file, output_file, keys_to_remove):\n",
    "    with open(input_file, 'r', encoding='utf-8') as infile:\n",
    "        data = json.load(infile)\n",
    "    def remove_keys(obj, keys):\n",
    "        if isinstance(obj, dict):\n",
    "            for key in keys:\n",
    "                obj.pop(key, None)\n",
    "            for value in obj.values():\n",
    "                remove_keys(value, keys)\n",
    "        elif isinstance(obj, list):\n",
    "            for item in obj:\n",
    "                remove_keys(item, keys)\n",
    "    remove_keys(data, keys_to_remove)\n",
    "    with open(output_file, 'w', encoding='utf-8') as outfile:\n",
    "        json.dump(data, outfile, indent=4, ensure_ascii=False)\n",
    "keys_to_remove = [\"additionalLinks\", \"bookstore\", \"cfg\", \"catalog_descr\", \"materials\", \"enrollment_information\", \"reserve_caps\", \"catalog_descr\", \"messages\", \"notes\"]\n",
    "clean_large_json(input_file, output_file, keys_to_remove)\n"
   ],
   "metadata": {
    "collapsed": false
   }
  },
  {
   "cell_type": "code",
   "execution_count": null,
   "outputs": [],
   "source": [
    "def remove_class_capacity_999():\n",
    "    with open(output_file, 'r', encoding='utf-8') as infile:\n",
    "        data = json.load(infile)\n",
    "\n",
    "    def remove_capacity_999(obj):\n",
    "        if isinstance(obj, dict):\n",
    "            if obj.get(\"class_capacity\") == \"999\" or obj.get(\"class_capacity\") == 999:\n",
    "                return None\n",
    "            new_obj = {}\n",
    "            for key, value in obj.items():\n",
    "                result = remove_capacity_999(value)\n",
    "                if result is not None:\n",
    "                    new_obj[key] = result\n",
    "            return new_obj\n",
    "        elif isinstance(obj, list):\n",
    "            return [remove_capacity_999(item) for item in obj if remove_capacity_999(item) is not None]\n",
    "        else:\n",
    "            return obj\n",
    "    cleaned_data = remove_capacity_999(data)\n",
    "\n",
    "    with open(output_file, 'w', encoding='utf-8') as outfile:\n",
    "        json.dump(cleaned_data, outfile, indent=4, ensure_ascii=False)\n",
    "remove_class_capacity_999()\n"
   ],
   "metadata": {
    "collapsed": false
   }
  },
  {
   "cell_type": "code",
   "execution_count": null,
   "outputs": [],
   "source": [
    "def remove_online_instruction_mode():\n",
    "    with open(output_file, 'r', encoding='utf-8') as infile:\n",
    "        data = json.load(infile)\n",
    "    def remove_online_mode(obj):\n",
    "        if isinstance(obj, dict):\n",
    "            if obj.get(\"instruction_mode\") == 'Online':\n",
    "                return None\n",
    "            new_obj = {}\n",
    "            for key, value in obj.items():\n",
    "                result = remove_online_mode(value)\n",
    "                if result is not None:\n",
    "                    new_obj[key] = result\n",
    "            return new_obj\n",
    "        elif isinstance(obj, list):\n",
    "            return [remove_online_mode(item) for item in obj if remove_online_mode(item) is not None]\n",
    "        else:\n",
    "            return obj\n",
    "    cleaned_data = remove_online_mode(data)\n",
    "\n",
    "    with open(output_file, 'w', encoding='utf-8') as outfile:\n",
    "        json.dump(cleaned_data, outfile, indent=4, ensure_ascii=False)\n",
    "remove_online_instruction_mode()\n"
   ],
   "metadata": {
    "collapsed": false
   }
  },
  {
   "cell_type": "code",
   "execution_count": null,
   "outputs": [],
   "source": [
    "def remove_tba_instructors():\n",
    "    with open(output_file, 'r', encoding='utf-8') as infile:\n",
    "        data = json.load(infile)\n",
    "    def clean_instructors(obj):\n",
    "        if isinstance(obj, dict):\n",
    "            if \"meetings\" in obj:\n",
    "                for meeting in obj[\"meetings\"]:\n",
    "                    if \"instructors\" in meeting:\n",
    "                        meeting[\"instructors\"] = [\n",
    "                            instructor for instructor in meeting[\"instructors\"]\n",
    "                            if instructor.get(\"name\") != \"To Be Announced\"\n",
    "                        ]\n",
    "            for value in obj.values():\n",
    "                clean_instructors(value)\n",
    "        elif isinstance(obj, list):\n",
    "            for item in obj:\n",
    "                clean_instructors(item)\n",
    "    clean_instructors(data)\n",
    "    with open(output_file, 'w', encoding='utf-8') as outfile:\n",
    "        json.dump(data, outfile, indent=4, ensure_ascii=False)\n",
    "remove_tba_instructors()\n"
   ],
   "metadata": {
    "collapsed": false
   }
  },
  {
   "cell_type": "code",
   "execution_count": null,
   "outputs": [],
   "source": [
    "def clean_empty_instructors_tba_meets_and_empty_times():\n",
    "    with open(output_file, 'r', encoding='utf-8') as infile:\n",
    "        data = json.load(infile)\n",
    "    def clean_data(obj):\n",
    "        if isinstance(obj, dict):\n",
    "            if \"instructors\" in obj and isinstance(obj[\"instructors\"], list) and not obj[\"instructors\"]:\n",
    "                return None\n",
    "            if obj.get(\"meets\") == \"TBA\":\n",
    "                return None\n",
    "            if \"meeting_time_start\" in obj and obj[\"meeting_time_start\"] == \"\":\n",
    "                return None\n",
    "            if \"meeting_time_end\" in obj and obj[\"meeting_time_end\"] == \"\":\n",
    "                return None\n",
    "            new_obj = {}\n",
    "            for key, value in obj.items():\n",
    "                result = clean_data(value)\n",
    "                if result is not None:\n",
    "                    new_obj[key] = result\n",
    "            return new_obj\n",
    "        elif isinstance(obj, list):\n",
    "            return [clean_data(item) for item in obj if clean_data(item) is not None]\n",
    "        else:\n",
    "            return obj\n",
    "    cleaned_data = clean_data(data)\n",
    "    with open(output_file, 'w', encoding='utf-8') as outfile:\n",
    "        json.dump(cleaned_data, outfile, indent=4, ensure_ascii=False)\n",
    "clean_empty_instructors_tba_meets_and_empty_times()\n"
   ],
   "metadata": {
    "collapsed": false
   }
  },
  {
   "cell_type": "code",
   "execution_count": null,
   "outputs": [],
   "source": [
    "def clean_classroom_names():\n",
    "    with open(classroom_json, 'r', encoding='utf-8') as infile:\n",
    "        data = json.load(infile)\n",
    "    def remove_invalid_classrooms(obj):\n",
    "        if isinstance(obj, dict):\n",
    "            if \"Name\" in obj and '/' in obj[\"Name\"]:\n",
    "                return None\n",
    "            new_obj = {}\n",
    "            for key, value in obj.items():\n",
    "                result = remove_invalid_classrooms(value)\n",
    "                if result is not None:\n",
    "                    new_obj[key] = result\n",
    "            return new_obj\n",
    "        elif isinstance(obj, list):\n",
    "            return [remove_invalid_classrooms(item) for item in obj if remove_invalid_classrooms(item) is not None]\n",
    "        else:\n",
    "            return obj\n",
    "    cleaned_data = remove_invalid_classrooms(data)\n",
    "    with open(classroom_json, 'w', encoding='utf-8') as outfile:\n",
    "        json.dump(cleaned_data, outfile, indent=4, ensure_ascii=False)\n",
    "clean_classroom_names()\n"
   ],
   "metadata": {
    "collapsed": false
   }
  },
  {
   "cell_type": "code",
   "execution_count": null,
   "outputs": [],
   "source": [
    "import re\n",
    "def clean_classroom_names():\n",
    "    with open(classroom_json, 'r', encoding='utf-8') as infile:\n",
    "        data = json.load(infile)\n",
    "    def process_classroom_names(obj):\n",
    "        if isinstance(obj, dict):\n",
    "            if \"Name\" in obj:\n",
    "                cleaned_name = obj[\"Name\"].replace('-', ' ')\n",
    "                cleaned_name = re.sub(r'\\(.*$', '', cleaned_name).strip()\n",
    "                obj[\"Name\"] = cleaned_name\n",
    "            for key, value in obj.items():\n",
    "                process_classroom_names(value)\n",
    "        elif isinstance(obj, list):\n",
    "            for item in obj:\n",
    "                process_classroom_names(item)\n",
    "    process_classroom_names(data)\n",
    "    with open(classroom_json, 'w', encoding='utf-8') as outfile:\n",
    "        json.dump(data, outfile, indent=4, ensure_ascii=False)\n",
    "clean_classroom_names()\n"
   ],
   "metadata": {
    "collapsed": false
   }
  },
  {
   "cell_type": "code",
   "execution_count": null,
   "outputs": [],
   "source": [
    "def clean_none_and_no_room_classrooms():\n",
    "    with open(output_file, 'r', encoding='utf-8') as infile:\n",
    "        data = json.load(infile)\n",
    "    cleaned_data = []\n",
    "    for course in data:\n",
    "        section_info = course.get(\"section_info\", {})\n",
    "        meetings = section_info.get(\"meetings\", [])\n",
    "        if any(meeting.get(\"room\") in [None, \"NO ROOM\"] for meeting in meetings):\n",
    "            continue\n",
    "        else:\n",
    "            cleaned_data.append(course)\n",
    "    with open(output_file, 'w', encoding='utf-8') as outfile:\n",
    "        json.dump(cleaned_data, outfile, indent=4, ensure_ascii=False)\n",
    "clean_none_and_no_room_classrooms()\n"
   ],
   "metadata": {
    "collapsed": false
   }
  },
  {
   "cell_type": "code",
   "execution_count": null,
   "outputs": [],
   "source": [
    "def clean_empty_meetings():\n",
    "    with open(output_file, 'r', encoding='utf-8') as infile:\n",
    "        data = json.load(infile)\n",
    "    cleaned_data = []\n",
    "    for course in data:\n",
    "        section_info = course.get(\"section_info\", {})\n",
    "        meetings = section_info.get(\"meetings\", [])\n",
    "        if meetings:\n",
    "            cleaned_data.append(course)\n",
    "    with open(output_file, 'w', encoding='utf-8') as outfile:\n",
    "        json.dump(cleaned_data, outfile, indent=4, ensure_ascii=False)\n",
    "clean_empty_meetings()\n"
   ],
   "metadata": {
    "collapsed": false
   }
  },
  {
   "cell_type": "markdown",
   "source": [
    "<h1>Debugger, ignore this part</h1>"
   ],
   "metadata": {
    "collapsed": false
   }
  },
  {
   "cell_type": "code",
   "execution_count": null,
   "outputs": [],
   "source": [
    "def count_and_print_top_ten_class_capacities():\n",
    "    with open(output_file, 'r', encoding='utf-8') as infile:\n",
    "        data = json.load(infile)\n",
    "\n",
    "    capacities = []\n",
    "    capacity_999_count = 0\n",
    "\n",
    "    def find_class_capacities(obj):\n",
    "        nonlocal capacity_999_count\n",
    "        if isinstance(obj, dict):\n",
    "            # 检查并记录 class_capacity\n",
    "            if \"class_capacity\" in obj:\n",
    "                try:\n",
    "                    capacity = int(obj[\"class_capacity\"])\n",
    "                    capacities.append(capacity)\n",
    "                    if capacity == 999:\n",
    "                        capacity_999_count += 1\n",
    "                except ValueError:\n",
    "                    pass\n",
    "            for value in obj.values():\n",
    "                find_class_capacities(value)\n",
    "        elif isinstance(obj, list):\n",
    "            for item in obj:\n",
    "                find_class_capacities(item)\n",
    "\n",
    "    find_class_capacities(data)\n",
    "\n",
    "    print(\"前十节课的 class_capacity:\", capacities[:10])\n",
    "    print(\"class_capacity 为 999 的数量:\", capacity_999_count)\n",
    "count_and_print_top_ten_class_capacities()\n"
   ],
   "metadata": {
    "collapsed": false
   }
  },
  {
   "cell_type": "code",
   "execution_count": null,
   "outputs": [],
   "source": [
    "def count_unique_instruction_modes():\n",
    "    with open(output_file, 'r', encoding='utf-8') as outfile:\n",
    "        data = json.load(outfile)\n",
    "    instruction_modes = set()\n",
    "    def find_instruction_modes(obj):\n",
    "        if isinstance(obj, dict):\n",
    "            if \"instruction_mode\" in obj:\n",
    "                instruction_modes.add(obj[\"instruction_mode\"])\n",
    "            for value in obj.values():\n",
    "                find_instruction_modes(value)\n",
    "        elif isinstance(obj, list):\n",
    "            for item in obj:\n",
    "                find_instruction_modes(item)\n",
    "\n",
    "    find_instruction_modes(data)\n",
    "\n",
    "    print(\"不同的 instruction_mode 数量:\", len(instruction_modes))\n",
    "    print(\"不同的 instruction_mode 值:\", instruction_modes)\n",
    "count_unique_instruction_modes()\n"
   ],
   "metadata": {
    "collapsed": false
   }
  },
  {
   "cell_type": "code",
   "execution_count": null,
   "outputs": [],
   "source": [
    "def display_sample_professor_schedule(professor_schedule, sample_size=10):\n",
    "    print(f\"Displaying schedule for the first {sample_size} professors:\")\n",
    "    for professor_id in range(sample_size):\n",
    "        if professor_id in professor_schedule:\n",
    "            print(f\"\\nProfessor ID {professor_id}:\")\n",
    "            for schedule in professor_schedule[professor_id]:\n",
    "                start_time, end_time, capacity = schedule\n",
    "                print(f\"  Start Time (in 5-min units): {start_time}, \"\n",
    "                      f\"End Time (in 5-min units): {end_time}, \"\n",
    "                      f\"Capacity: {capacity}\")\n",
    "        else:\n",
    "            print(f\"\\nProfessor ID {professor_id}: No schedule available\")\n",
    "display_sample_professor_schedule(professor_schedule)\n"
   ],
   "metadata": {
    "collapsed": false
   }
  },
  {
   "cell_type": "code",
   "execution_count": null,
   "outputs": [],
   "source": [
    "def decode_time(value):\n",
    "    minutes_per_day = 24 * 60 // 5\n",
    "    day = value // minutes_per_day\n",
    "    time_in_day = value % minutes_per_day\n",
    "\n",
    "    hours = (time_in_day * 5) // 60\n",
    "    minutes = (time_in_day * 5) % 60\n",
    "    day_mapping = [\"周一\", \"周二\", \"周三\", \"周四\", \"周五\", \"周六\", \"周日\"]\n",
    "    day_name = day_mapping[day]\n",
    "\n",
    "    return f\"{day_name} {hours:02}:{minutes:02}\"\n",
    "print(decode_time(978))"
   ],
   "metadata": {
    "collapsed": false
   }
  },
  {
   "cell_type": "code",
   "execution_count": null,
   "outputs": [],
   "source": [
    "def find_courses_for_instructor(instructor_name):\n",
    "    with open(output_file, 'r', encoding='utf-8') as infile:\n",
    "        data = json.load(infile)\n",
    "\n",
    "    instructor_courses = []\n",
    "\n",
    "    def search_for_instructor(obj):\n",
    "        if isinstance(obj, dict):\n",
    "            if \"meetings\" in obj:\n",
    "                for meeting in obj[\"meetings\"]:\n",
    "                    if \"instructors\" in meeting:\n",
    "                        for instructor in meeting[\"instructors\"]:\n",
    "                            if instructor.get(\"name\") == instructor_name:\n",
    "                                instructor_courses.append(obj)\n",
    "                                return\n",
    "\n",
    "            for value in obj.values():\n",
    "                search_for_instructor(value)\n",
    "        elif isinstance(obj, list):\n",
    "            for item in obj:\n",
    "                search_for_instructor(item)\n",
    "\n",
    "\n",
    "    search_for_instructor(data)\n",
    "\n",
    "\n",
    "    print(f\" '{instructor_name}' \")\n",
    "    for course in instructor_courses:\n",
    "        print(json.dumps(course, indent=4, ensure_ascii=False))\n",
    "\n",
    "    return instructor_courses\n",
    "find_courses_for_instructor(\"Min Ye\")\n"
   ],
   "metadata": {
    "collapsed": false
   }
  },
  {
   "cell_type": "code",
   "execution_count": null,
   "outputs": [],
   "source": [
    "def find_room(keyword):\n",
    "    with open(output_file, 'r', encoding='utf-8') as infile:\n",
    "        data = json.load(infile)\n",
    "\n",
    "    rooms_with_keyword = []\n",
    "\n",
    "    def search_meetings(obj):\n",
    "        if isinstance(obj, dict):\n",
    "            if \"meetings\" in obj:\n",
    "                for meeting in obj[\"meetings\"]:\n",
    "                    if \"room\" in meeting and keyword in meeting[\"room\"]:\n",
    "                        rooms_with_keyword.append(meeting)\n",
    "            for value in obj.values():\n",
    "                search_meetings(value)\n",
    "        elif isinstance(obj, list):\n",
    "            for item in obj:\n",
    "                search_meetings(item)\n",
    "    search_meetings(data)\n",
    "    print(f\"包含 '{keyword}' 的房间信息:\", rooms_with_keyword)\n",
    "    return rooms_with_keyword\n",
    "rooms = find_room(\"CFA 154\")\n"
   ],
   "metadata": {
    "collapsed": false
   }
  },
  {
   "cell_type": "markdown",
   "source": [
    "<h1>Data Processing</h1>"
   ],
   "metadata": {
    "collapsed": false
   }
  },
  {
   "cell_type": "markdown",
   "source": [
    "<h2>capacities: int[]</h2>"
   ],
   "metadata": {
    "collapsed": false
   }
  },
  {
   "cell_type": "code",
   "execution_count": null,
   "outputs": [],
   "source": [
    "def extract_capacity_from_additional_info():\n",
    "    with open(classroom_json, 'r', encoding='utf-8') as infile:\n",
    "        data = json.load(infile)\n",
    "\n",
    "    capacities = []\n",
    "\n",
    "\n",
    "    def find_capacity(obj):\n",
    "        if isinstance(obj, dict):\n",
    "            if \"AdditionalInfo\" in obj and \"Capacity\" in obj[\"AdditionalInfo\"]:\n",
    "                try:\n",
    "                    capacities.append(int(obj[\"AdditionalInfo\"][\"Capacity\"]))\n",
    "                except ValueError:\n",
    "                    pass\n",
    "\n",
    "            for value in obj.values():\n",
    "                find_capacity(value)\n",
    "        elif isinstance(obj, list):\n",
    "            for item in obj:\n",
    "                find_capacity(item)\n",
    "\n",
    "    find_capacity(data)\n",
    "\n",
    "    return capacities\n",
    "capacities = extract_capacity_from_additional_info()"
   ],
   "metadata": {
    "collapsed": false
   }
  },
  {
   "cell_type": "markdown",
   "source": [
    "<h2>name_capacity_dict: dict</h2>"
   ],
   "metadata": {
    "collapsed": false
   }
  },
  {
   "cell_type": "code",
   "execution_count": null,
   "outputs": [],
   "source": [
    "def extract_name_capacity_dict():\n",
    "    with open(classroom_json, 'r', encoding='utf-8') as infile:\n",
    "        data = json.load(infile)\n",
    "    name_capacity_dict = {}\n",
    "    def find_name_capacity(obj):\n",
    "        if isinstance(obj, dict):\n",
    "            if \"Name\" in obj and \"AdditionalInfo\" in obj and \"Capacity\" in obj[\"AdditionalInfo\"]:\n",
    "                try:\n",
    "                    name_capacity_dict[obj[\"Name\"]] = int(obj[\"AdditionalInfo\"][\"Capacity\"])\n",
    "                except ValueError:\n",
    "                    pass\n",
    "            for value in obj.values():\n",
    "                find_name_capacity(value)\n",
    "        elif isinstance(obj, list):\n",
    "            for item in obj:\n",
    "                find_name_capacity(item)\n",
    "\n",
    "    find_name_capacity(data)\n",
    "    return name_capacity_dict\n",
    "name_capacity_dict = extract_name_capacity_dict()"
   ],
   "metadata": {
    "collapsed": false
   }
  },
  {
   "cell_type": "markdown",
   "source": [
    "<h2>professor_mapping: dict</h2>"
   ],
   "metadata": {
    "collapsed": false
   }
  },
  {
   "cell_type": "code",
   "execution_count": null,
   "outputs": [],
   "source": [
    "def extract_professor_mapping():\n",
    "    with open(output_file, 'r', encoding='utf-8') as infile:\n",
    "        data = json.load(infile)\n",
    "\n",
    "    professor_mapping = {}\n",
    "    professor_id_counter = 0\n",
    "\n",
    "\n",
    "    def find_instructors(obj):\n",
    "        nonlocal professor_id_counter\n",
    "        if isinstance(obj, dict):\n",
    "\n",
    "            if \"meetings\" in obj:\n",
    "                for meeting in obj[\"meetings\"]:\n",
    "                    if \"instructors\" in meeting:\n",
    "                        for instructor in meeting[\"instructors\"]:\n",
    "                            name = instructor.get(\"name\")\n",
    "\n",
    "                            if name and name not in professor_mapping:\n",
    "                                professor_mapping[name] = professor_id_counter\n",
    "                                professor_id_counter += 1\n",
    "\n",
    "            for value in obj.values():\n",
    "                find_instructors(value)\n",
    "        elif isinstance(obj, list):\n",
    "            for item in obj:\n",
    "                find_instructors(item)\n",
    "\n",
    "\n",
    "    find_instructors(data)\n",
    "\n",
    "\n",
    "    return professor_mapping\n",
    "professor_mapping = extract_professor_mapping()\n"
   ],
   "metadata": {
    "collapsed": false
   }
  },
  {
   "cell_type": "markdown",
   "source": [
    "<h2>professor_schedule: dict</h2>"
   ],
   "metadata": {
    "collapsed": false
   }
  },
  {
   "cell_type": "code",
   "execution_count": null,
   "outputs": [],
   "source": [
    "def build_professor_schedule():\n",
    "    with open(output_file, 'r', encoding='utf-8') as infile:\n",
    "        data = json.load(infile)\n",
    "\n",
    "    professor_schedule = {}\n",
    "\n",
    "\n",
    "    day_mapping = {\n",
    "        \"Mo\": 0, \"Tu\": 1, \"We\": 2, \"Th\": 3, \"Fr\": 4, \"Sa\": 5, \"Su\": 6\n",
    "    }\n",
    "\n",
    "\n",
    "    def parse_time(time_str, day):\n",
    "        time_obj = datetime.strptime(time_str, \"%I:%M%p\")\n",
    "        minutes = time_obj.hour * 60 + time_obj.minute\n",
    "\n",
    "        return (minutes // 5) + day * (24 * 60 // 5)\n",
    "\n",
    "\n",
    "    def find_meetings(obj):\n",
    "        if isinstance(obj, dict):\n",
    "\n",
    "            if \"meetings\" in obj and \"class_availability\" in obj:\n",
    "\n",
    "                capacity = obj[\"class_availability\"].get(\"class_capacity\")\n",
    "                if capacity is not None:\n",
    "                    capacity = int(capacity)\n",
    "\n",
    "                for meeting in obj[\"meetings\"]:\n",
    "                    if \"instructors\" in meeting and \"days\" in meeting and \"meeting_time_start\" in meeting and \"meeting_time_end\" in meeting:\n",
    "\n",
    "                        days_str = meeting[\"days\"]\n",
    "                        days = [day_mapping[days_str[i:i+2]] for i in range(0, len(days_str), 2) if days_str[i:i+2] in day_mapping]\n",
    "\n",
    "\n",
    "                        for instructor in meeting[\"instructors\"]:\n",
    "                            professor_name = instructor.get(\"name\")\n",
    "                            professor_id = professor_mapping.get(professor_name)\n",
    "\n",
    "                            if professor_id is not None:\n",
    "                                if professor_id not in professor_schedule:\n",
    "                                    professor_schedule[professor_id] = []\n",
    "\n",
    "\n",
    "                                for day in days:\n",
    "                                    start_time = parse_time(meeting[\"meeting_time_start\"], day)\n",
    "                                    end_time = parse_time(meeting[\"meeting_time_end\"], day)\n",
    "                                    professor_schedule[professor_id].append((start_time, end_time, capacity))\n",
    "\n",
    "\n",
    "            for value in obj.values():\n",
    "                find_meetings(value)\n",
    "        elif isinstance(obj, list):\n",
    "            for item in obj:\n",
    "                find_meetings(item)\n",
    "\n",
    "\n",
    "    find_meetings(data)\n",
    "\n",
    "\n",
    "    return professor_schedule\n",
    "professor_schedule = build_professor_schedule()"
   ],
   "metadata": {
    "collapsed": false
   }
  },
  {
   "cell_type": "markdown",
   "source": [
    "<h2>classroom_mapping: dict</h2>"
   ],
   "metadata": {
    "collapsed": false
   }
  },
  {
   "cell_type": "code",
   "execution_count": null,
   "outputs": [],
   "source": [
    "def create_classroom_mapping():\n",
    "    with open(classroom_json, 'r', encoding='utf-8') as infile:\n",
    "        data = json.load(infile)\n",
    "\n",
    "    classroom_mapping = {}\n",
    "    classroom_id_counter = 0\n",
    "\n",
    "\n",
    "    def find_classrooms(obj):\n",
    "        nonlocal classroom_id_counter\n",
    "        if isinstance(obj, dict):\n",
    "            if \"Name\" in obj:\n",
    "                classroom_name = obj[\"Name\"]\n",
    "\n",
    "                if classroom_name not in classroom_mapping:\n",
    "                    classroom_mapping[classroom_name] = classroom_id_counter\n",
    "                    classroom_id_counter += 1\n",
    "\n",
    "            for value in obj.values():\n",
    "                find_classrooms(value)\n",
    "        elif isinstance(obj, list):\n",
    "            for item in obj:\n",
    "                find_classrooms(item)\n",
    "\n",
    "\n",
    "    find_classrooms(data)\n",
    "\n",
    "\n",
    "    return classroom_mapping\n",
    "classroom_mapping = create_classroom_mapping()"
   ],
   "metadata": {
    "collapsed": false
   }
  },
  {
   "cell_type": "markdown",
   "source": [
    "<h2>professor_courses: int[][][]</h2>"
   ],
   "metadata": {
    "collapsed": false
   }
  },
  {
   "cell_type": "code",
   "execution_count": null,
   "outputs": [],
   "source": [
    "import numpy as np\n",
    "import json\n",
    "from datetime import datetime\n",
    "N = len(professor_mapping)\n",
    "M = len(classroom_mapping)\n",
    "T = 7 * 24 * 60 // 5\n",
    "professor_courses = np.zeros((N, M, T), dtype=int)\n",
    "def parse_time_to_5_min_units(time_str):\n",
    "    time_obj = datetime.strptime(time_str, \"%I:%M%p\")\n",
    "    minutes = time_obj.hour * 60 + time_obj.minute\n",
    "    return minutes // 5\n",
    "with open(output_file, 'r', encoding='utf-8') as infile:\n",
    "    data = json.load(infile)\n",
    "    for course in data:\n",
    "        section_info = course.get(\"section_info\", {})\n",
    "        meetings = section_info.get(\"meetings\", [])\n",
    "        for obj in meetings:\n",
    "            room_field = obj.get(\"room\", \"\")\n",
    "            room_parts = room_field.split()\n",
    "            room_name = room_parts[-2] + \" \" + room_parts[-1] if len(room_parts) >= 2 else None\n",
    "            if room_name in [None, \"NO ROOM\"]:\n",
    "                continue\n",
    "            instructors = obj.get(\"instructors\", [])\n",
    "            for instructor in instructors:\n",
    "                professor_name = instructor.get(\"name\")\n",
    "                professor_id = professor_mapping.get(professor_name)\n",
    "                room_id = classroom_mapping.get(room_name)\n",
    "                if professor_id is None:\n",
    "                    print(f\"教授 '{professor_name}' 未找到对应的 ID\")\n",
    "                if room_id is None:\n",
    "                    print(f\"Room '{room_name}' can't find ID\")\n",
    "                if professor_id is not None and room_id is not None:\n",
    "                    days_str = obj.get(\"days\", \"\")\n",
    "                    start_time = parse_time_to_5_min_units(obj[\"meeting_time_start\"])\n",
    "                    end_time = parse_time_to_5_min_units(obj[\"meeting_time_end\"])\n",
    "                    day_mapping = {\"Mo\": 0, \"Tu\": 1, \"We\": 2, \"Th\": 3, \"Fr\": 4, \"Sa\": 5, \"Su\": 6}\n",
    "                    for day_abbr in [days_str[i:i+2] for i in range(0, len(days_str), 2)]:\n",
    "                        day = day_mapping.get(day_abbr)\n",
    "                        if day is not None:\n",
    "                            start_k = start_time + day * (24 * 60 // 5)\n",
    "                            end_k = end_time + day * (24 * 60 // 5)\n",
    "                            for k in range(start_k, end_k):\n",
    "                                professor_courses[professor_id][room_id][k] = 1\n"
   ],
   "metadata": {
    "collapsed": false
   }
  },
  {
   "cell_type": "markdown",
   "source": [
    "<h2>walking_cost: float[][], time cost matrix</h2>"
   ],
   "metadata": {
    "collapsed": false
   }
  },
  {
   "cell_type": "code",
   "execution_count": null,
   "outputs": [],
   "source": [
    "import pandas as pd\n",
    "b2b_distance = pd.read_csv(\"../data/b2b_walking_distance.csv\")\n",
    "buildings = {name.split()[0]: idx for name, idx in classroom_mapping.items()}\n",
    "num_classrooms = len(classroom_mapping)\n",
    "walking_cost = np.full((num_classrooms, num_classrooms), np.inf)\n",
    "for i in range(num_classrooms):\n",
    "    for j in range(num_classrooms):\n",
    "        if i == j:\n",
    "            walking_cost[i][j] = 0\n",
    "        elif list(classroom_mapping.keys())[i].split()[0] == list(classroom_mapping.keys())[j].split()[0]:\n",
    "            walking_cost[i][j] = 0\n",
    "for _, row in b2b_distance.iterrows():\n",
    "    building_a, building_b, distance = row['abbreviationA'], row['abbreviationB'], row['distance']\n",
    "    for classroom_a, idx_a in classroom_mapping.items():\n",
    "        for classroom_b, idx_b in classroom_mapping.items():\n",
    "            if classroom_a.split()[0] == building_a and classroom_b.split()[0] == building_b:\n",
    "                walking_cost[idx_a][idx_b] = distance\n",
    "                walking_cost[idx_b][idx_a] = distance "
   ],
   "metadata": {
    "collapsed": false
   }
  },
  {
   "cell_type": "markdown",
   "source": [
    "<h1>Export</h1>"
   ],
   "metadata": {
    "collapsed": false
   }
  },
  {
   "cell_type": "code",
   "execution_count": null,
   "outputs": [],
   "source": [
    "import pickle\n",
    "data_to_export = {\n",
    "    \"professor_schedule\": professor_schedule,\n",
    "    \"professor_mapping\": professor_mapping,\n",
    "    \"classroom_mapping\": classroom_mapping,\n",
    "    \"professor_courses\": professor_courses,\n",
    "    \"capacities\": capacities,\n",
    "    \"walking_cost\": walking_cost\n",
    "}\n",
    "\n",
    "with open(\"data_export.pkl\", \"wb\") as file:\n",
    "    pickle.dump(data_to_export, file)\n"
   ],
   "metadata": {
    "collapsed": false
   }
  }
 ],
 "metadata": {
  "kernelspec": {
   "display_name": "Python 3",
   "language": "python",
   "name": "python3"
  },
  "language_info": {
   "codemirror_mode": {
    "name": "ipython",
    "version": 2
   },
   "file_extension": ".py",
   "mimetype": "text/x-python",
   "name": "python",
   "nbconvert_exporter": "python",
   "pygments_lexer": "ipython2",
   "version": "2.7.6"
  }
 },
 "nbformat": 4,
 "nbformat_minor": 0
}
