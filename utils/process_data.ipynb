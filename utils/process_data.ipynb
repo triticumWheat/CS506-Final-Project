{
 "cells": [
  {
   "cell_type": "code",
   "execution_count": 35,
   "metadata": {
    "collapsed": true,
    "ExecuteTime": {
     "end_time": "2024-11-01T06:42:46.418666600Z",
     "start_time": "2024-11-01T06:42:46.395112500Z"
    }
   },
   "outputs": [],
   "source": [
    "input_file = '../data/details.json'  # 原始大 JSON 文件\n",
    "output_file = '../data/details_cleaned.json'  # 格式化后的文件\n",
    "classroom_json = '../data/classroom_data.json'"
   ]
  },
  {
   "cell_type": "markdown",
   "source": [
    "<h1>清理类</h1>"
   ],
   "metadata": {
    "collapsed": false
   }
  },
  {
   "cell_type": "code",
   "execution_count": 27,
   "outputs": [
    {
     "name": "stdout",
     "output_type": "stream",
     "text": [
      "指定字段已删除，清理后的 JSON 文件已保存为 ../data/details_cleaned.json\n"
     ]
    }
   ],
   "source": [
    "import json\n",
    "\n",
    "# 读取并清理大 JSON 文件的指定字段\n",
    "def clean_large_json(input_file, output_file, keys_to_remove):\n",
    "    with open(input_file, 'r', encoding='utf-8') as infile:\n",
    "        data = json.load(infile)  # 读取整个 JSON 文件\n",
    "\n",
    "    # 递归删除指定的键\n",
    "    def remove_keys(obj, keys):\n",
    "        if isinstance(obj, dict):\n",
    "            for key in keys:\n",
    "                obj.pop(key, None)  # 删除指定键\n",
    "            for value in obj.values():\n",
    "                remove_keys(value, keys)\n",
    "        elif isinstance(obj, list):\n",
    "            for item in obj:\n",
    "                remove_keys(item, keys)\n",
    "\n",
    "    # 删除指定字段\n",
    "    remove_keys(data, keys_to_remove)\n",
    "\n",
    "    with open(output_file, 'w', encoding='utf-8') as outfile:\n",
    "        json.dump(data, outfile, indent=4, ensure_ascii=False)  # 格式化并保存\n",
    "\n",
    "\n",
    "\n",
    "# 指定要删除的键\n",
    "keys_to_remove = [\"additionalLinks\", \"bookstore\", \"cfg\", \"catalog_descr\", \"materials\", \"enrollment_information\", \"reserve_caps\", \"catalog_descr\", \"messages\", \"notes\"]\n",
    "\n",
    "clean_large_json(input_file, output_file, keys_to_remove)\n",
    "print(\"指定字段已删除，清理后的 JSON 文件已保存为\", output_file)\n"
   ],
   "metadata": {
    "collapsed": false,
    "ExecuteTime": {
     "end_time": "2024-11-01T06:32:13.344418Z",
     "start_time": "2024-11-01T06:32:10.685054100Z"
    }
   }
  },
  {
   "cell_type": "code",
   "execution_count": 28,
   "outputs": [
    {
     "name": "stdout",
     "output_type": "stream",
     "text": [
      "class_capacity 为 999 的项已删除，清理后的 JSON 文件已保存。\n"
     ]
    }
   ],
   "source": [
    "import json\n",
    "\n",
    "def remove_class_capacity_999():\n",
    "    with open(output_file, 'r', encoding='utf-8') as infile:\n",
    "        data = json.load(infile)  # 读取整个 JSON 文件\n",
    "\n",
    "    # 递归删除 class_capacity 为 999 的项\n",
    "    def remove_capacity_999(obj):\n",
    "        if isinstance(obj, dict):\n",
    "            # 检查并删除 class_capacity 为 999 的项\n",
    "            if obj.get(\"class_capacity\") == \"999\" or obj.get(\"class_capacity\") == 999:\n",
    "                return None  # 标记该项为删除\n",
    "            # 继续检查子字段\n",
    "            new_obj = {}\n",
    "            for key, value in obj.items():\n",
    "                result = remove_capacity_999(value)\n",
    "                if result is not None:\n",
    "                    new_obj[key] = result\n",
    "            return new_obj\n",
    "        elif isinstance(obj, list):\n",
    "            # 遍历列表中的每一项\n",
    "            return [remove_capacity_999(item) for item in obj if remove_capacity_999(item) is not None]\n",
    "        else:\n",
    "            return obj\n",
    "\n",
    "    # 执行删除操作\n",
    "    cleaned_data = remove_capacity_999(data)\n",
    "\n",
    "    with open(output_file, 'w', encoding='utf-8') as outfile:\n",
    "        json.dump(cleaned_data, outfile, indent=4, ensure_ascii=False)  # 格式化并保存\n",
    "\n",
    "    print(\"class_capacity 为 999 的项已删除，清理后的 JSON 文件已保存。\")\n",
    "\n",
    "remove_class_capacity_999()\n"
   ],
   "metadata": {
    "collapsed": false,
    "ExecuteTime": {
     "end_time": "2024-11-01T06:32:25.740615300Z",
     "start_time": "2024-11-01T06:32:22.577572700Z"
    }
   }
  },
  {
   "cell_type": "code",
   "execution_count": 29,
   "outputs": [
    {
     "name": "stdout",
     "output_type": "stream",
     "text": [
      "instruction_mode 为 'Online' 的项已删除，清理后的 JSON 文件已保存。\n"
     ]
    }
   ],
   "source": [
    "import json\n",
    "\n",
    "def remove_online_instruction_mode():\n",
    "    with open(output_file, 'r', encoding='utf-8') as infile:\n",
    "        data = json.load(infile)  # 从输出文件读取数据\n",
    "\n",
    "    # 递归删除 instruction_mode 为 'Online' 的项\n",
    "    def remove_online_mode(obj):\n",
    "        if isinstance(obj, dict):\n",
    "            # 检查并删除 instruction_mode 为 'Online' 的项\n",
    "            if obj.get(\"instruction_mode\") == 'Online':\n",
    "                return None  # 标记该项为删除\n",
    "            # 继续检查子字段\n",
    "            new_obj = {}\n",
    "            for key, value in obj.items():\n",
    "                result = remove_online_mode(value)\n",
    "                if result is not None:\n",
    "                    new_obj[key] = result\n",
    "            return new_obj\n",
    "        elif isinstance(obj, list):\n",
    "            # 遍历列表中的每一项\n",
    "            return [remove_online_mode(item) for item in obj if remove_online_mode(item) is not None]\n",
    "        else:\n",
    "            return obj\n",
    "\n",
    "    # 执行删除操作\n",
    "    cleaned_data = remove_online_mode(data)\n",
    "\n",
    "    with open(output_file, 'w', encoding='utf-8') as outfile:\n",
    "        json.dump(cleaned_data, outfile, indent=4, ensure_ascii=False)  # 格式化并保存\n",
    "\n",
    "    print(\"instruction_mode 为 'Online' 的项已删除，清理后的 JSON 文件已保存。\")\n",
    "\n",
    "remove_online_instruction_mode()\n"
   ],
   "metadata": {
    "collapsed": false,
    "ExecuteTime": {
     "end_time": "2024-11-01T06:32:28.425716600Z",
     "start_time": "2024-11-01T06:32:25.738617600Z"
    }
   }
  },
  {
   "cell_type": "code",
   "execution_count": 42,
   "outputs": [
    {
     "name": "stdout",
     "output_type": "stream",
     "text": [
      "已删除 instructors 名为 'To Be Announced' 的条目，清理后的 JSON 文件已保存。\n"
     ]
    }
   ],
   "source": [
    "import json\n",
    "\n",
    "def remove_tba_instructors():\n",
    "    with open(output_file, 'r', encoding='utf-8') as infile:\n",
    "        data = json.load(infile)  # 从输出文件读取数据\n",
    "\n",
    "    # 递归删除 instructors 名为 \"To Be Announced\" 的条目\n",
    "    def clean_instructors(obj):\n",
    "        if isinstance(obj, dict):\n",
    "            if \"meetings\" in obj:\n",
    "                for meeting in obj[\"meetings\"]:\n",
    "                    if \"instructors\" in meeting:\n",
    "                        # 过滤掉 \"To Be Announced\" 的条目\n",
    "                        meeting[\"instructors\"] = [\n",
    "                            instructor for instructor in meeting[\"instructors\"]\n",
    "                            if instructor.get(\"name\") != \"To Be Announced\"\n",
    "                        ]\n",
    "            # 继续遍历子字段\n",
    "            for value in obj.values():\n",
    "                clean_instructors(value)\n",
    "        elif isinstance(obj, list):\n",
    "            for item in obj:\n",
    "                clean_instructors(item)\n",
    "\n",
    "    # 执行清理操作\n",
    "    clean_instructors(data)\n",
    "\n",
    "    # 将清理后的数据写回文件\n",
    "    with open(output_file, 'w', encoding='utf-8') as outfile:\n",
    "        json.dump(data, outfile, indent=4, ensure_ascii=False)\n",
    "\n",
    "    print(\"已删除 instructors 名为 'To Be Announced' 的条目，清理后的 JSON 文件已保存。\")\n",
    "\n",
    "remove_tba_instructors()\n"
   ],
   "metadata": {
    "collapsed": false,
    "ExecuteTime": {
     "end_time": "2024-11-01T07:15:09.391361700Z",
     "start_time": "2024-11-01T07:15:07.018715400Z"
    }
   }
  },
  {
   "cell_type": "code",
   "execution_count": 48,
   "outputs": [
    {
     "name": "stdout",
     "output_type": "stream",
     "text": [
      "已删除 instructors 为空、meets 为 'TBA'、以及 time 为空的项，清理后的 JSON 文件已保存。\n"
     ]
    }
   ],
   "source": [
    "import json\n",
    "\n",
    "def clean_empty_instructors_tba_meets_and_empty_times():\n",
    "    with open(output_file, 'r', encoding='utf-8') as infile:\n",
    "        data = json.load(infile)  # 从文件读取数据\n",
    "\n",
    "    # 递归删除 instructors 为空、meets 为 \"TBA\"、以及 time 为空的项\n",
    "    def clean_data(obj):\n",
    "        if isinstance(obj, dict):\n",
    "            # 删除 instructors 为空的项\n",
    "            if \"instructors\" in obj and isinstance(obj[\"instructors\"], list) and not obj[\"instructors\"]:\n",
    "                return None\n",
    "            # 删除 meets 为 \"TBA\" 的项\n",
    "            if obj.get(\"meets\") == \"TBA\":\n",
    "                return None\n",
    "            # 删除 time 为空的项\n",
    "            if \"meeting_time_start\" in obj and obj[\"meeting_time_start\"] == \"\":\n",
    "                return None\n",
    "            if \"meeting_time_end\" in obj and obj[\"meeting_time_end\"] == \"\":\n",
    "                return None\n",
    "            # 继续遍历子字段\n",
    "            new_obj = {}\n",
    "            for key, value in obj.items():\n",
    "                result = clean_data(value)\n",
    "                if result is not None:\n",
    "                    new_obj[key] = result\n",
    "            return new_obj\n",
    "        elif isinstance(obj, list):\n",
    "            # 对列表中的每个元素应用清理操作\n",
    "            return [clean_data(item) for item in obj if clean_data(item) is not None]\n",
    "        else:\n",
    "            return obj\n",
    "\n",
    "    # 执行清理操作\n",
    "    cleaned_data = clean_data(data)\n",
    "\n",
    "    # 将清理后的数据写回文件\n",
    "    with open(output_file, 'w', encoding='utf-8') as outfile:\n",
    "        json.dump(cleaned_data, outfile, indent=4, ensure_ascii=False)\n",
    "\n",
    "    print(\"已删除 instructors 为空、meets 为 'TBA'、以及 time 为空的项，清理后的 JSON 文件已保存。\")\n",
    "\n",
    "clean_empty_instructors_tba_meets_and_empty_times()\n"
   ],
   "metadata": {
    "collapsed": false,
    "ExecuteTime": {
     "end_time": "2024-11-01T07:40:30.814431300Z",
     "start_time": "2024-11-01T07:40:28.481917800Z"
    }
   }
  },
  {
   "cell_type": "code",
   "execution_count": 71,
   "outputs": [
    {
     "name": "stdout",
     "output_type": "stream",
     "text": [
      "已删除包含 '/' 的教室名称项，清理后的 JSON 文件已保存。\n"
     ]
    }
   ],
   "source": [
    "import json\n",
    "\n",
    "def clean_classroom_names():\n",
    "    with open(classroom_json, 'r', encoding='utf-8') as infile:\n",
    "        data = json.load(infile)\n",
    "\n",
    "    # 递归删除包含 '/' 的 Name 项\n",
    "    def remove_invalid_classrooms(obj):\n",
    "        if isinstance(obj, dict):\n",
    "            if \"Name\" in obj and '/' in obj[\"Name\"]:\n",
    "                return None  # 将包含 '/' 的教室名称项标记为 None，表示删除\n",
    "            # 遍历并处理子字段\n",
    "            new_obj = {}\n",
    "            for key, value in obj.items():\n",
    "                result = remove_invalid_classrooms(value)\n",
    "                if result is not None:\n",
    "                    new_obj[key] = result\n",
    "            return new_obj\n",
    "        elif isinstance(obj, list):\n",
    "            # 过滤掉标记为 None 的项\n",
    "            return [remove_invalid_classrooms(item) for item in obj if remove_invalid_classrooms(item) is not None]\n",
    "        else:\n",
    "            return obj\n",
    "\n",
    "    # 执行清理操作\n",
    "    cleaned_data = remove_invalid_classrooms(data)\n",
    "\n",
    "    # 将清理后的数据写回文件\n",
    "    with open(classroom_json, 'w', encoding='utf-8') as outfile:\n",
    "        json.dump(cleaned_data, outfile, indent=4, ensure_ascii=False)\n",
    "\n",
    "    print(\"已删除包含 '/' 的教室名称项，清理后的 JSON 文件已保存。\")\n",
    "\n",
    "clean_classroom_names()\n"
   ],
   "metadata": {
    "collapsed": false,
    "ExecuteTime": {
     "end_time": "2024-11-01T08:05:11.747825100Z",
     "start_time": "2024-11-01T08:05:11.695397700Z"
    }
   }
  },
  {
   "cell_type": "code",
   "execution_count": 77,
   "outputs": [
    {
     "name": "stdout",
     "output_type": "stream",
     "text": [
      "已清理 Name 字段中的格式，清理后的 JSON 文件已保存。\n"
     ]
    }
   ],
   "source": [
    "import json\n",
    "import re\n",
    "\n",
    "def clean_classroom_names():\n",
    "    with open(classroom_json, 'r', encoding='utf-8') as infile:\n",
    "        data = json.load(infile)\n",
    "\n",
    "    # 递归处理 Name 字段中的格式\n",
    "    def process_classroom_names(obj):\n",
    "        if isinstance(obj, dict):\n",
    "            if \"Name\" in obj:\n",
    "                # 将 '-' 替换为空格\n",
    "                cleaned_name = obj[\"Name\"].replace('-', ' ')\n",
    "                # 删除 '(' 及其右边的所有内容\n",
    "                cleaned_name = re.sub(r'\\(.*$', '', cleaned_name).strip()\n",
    "                obj[\"Name\"] = cleaned_name\n",
    "            # 继续遍历子字段\n",
    "            for key, value in obj.items():\n",
    "                process_classroom_names(value)\n",
    "        elif isinstance(obj, list):\n",
    "            for item in obj:\n",
    "                process_classroom_names(item)\n",
    "\n",
    "    # 执行清理操作\n",
    "    process_classroom_names(data)\n",
    "\n",
    "    # 将清理后的数据写回文件\n",
    "    with open(classroom_json, 'w', encoding='utf-8') as outfile:\n",
    "        json.dump(data, outfile, indent=4, ensure_ascii=False)\n",
    "\n",
    "    print(\"已清理 Name 字段中的格式，清理后的 JSON 文件已保存。\")\n",
    "\n",
    "clean_classroom_names()\n"
   ],
   "metadata": {
    "collapsed": false,
    "ExecuteTime": {
     "end_time": "2024-11-01T08:13:27.085526300Z",
     "start_time": "2024-11-01T08:13:27.035082800Z"
    }
   }
  },
  {
   "cell_type": "markdown",
   "source": [
    "<h1>查询类</h1>"
   ],
   "metadata": {
    "collapsed": false
   }
  },
  {
   "cell_type": "code",
   "execution_count": 30,
   "outputs": [
    {
     "name": "stdout",
     "output_type": "stream",
     "text": [
      "前十节课的 class_capacity: [110, 23, 31, 2, 21, 5, 50, 5, 10, 30]\n",
      "class_capacity 为 999 的数量: 0\n"
     ]
    }
   ],
   "source": [
    "import json\n",
    "\n",
    "def count_and_print_top_ten_class_capacities():\n",
    "    with open(output_file, 'r', encoding='utf-8') as infile:\n",
    "        data = json.load(infile)  # 读取整个 JSON 文件\n",
    "\n",
    "    capacities = []\n",
    "    capacity_999_count = 0\n",
    "\n",
    "    def find_class_capacities(obj):\n",
    "        nonlocal capacity_999_count\n",
    "        if isinstance(obj, dict):\n",
    "            # 检查并记录 class_capacity\n",
    "            if \"class_capacity\" in obj:\n",
    "                try:\n",
    "                    capacity = int(obj[\"class_capacity\"])  # 转换为整数\n",
    "                    capacities.append(capacity)\n",
    "                    if capacity == 999:\n",
    "                        capacity_999_count += 1\n",
    "                except ValueError:\n",
    "                    pass  # 忽略无法转换的值\n",
    "            # 继续遍历子字段\n",
    "            for value in obj.values():\n",
    "                find_class_capacities(value)\n",
    "        elif isinstance(obj, list):\n",
    "            for item in obj:\n",
    "                find_class_capacities(item)\n",
    "\n",
    "    # 执行查找\n",
    "    find_class_capacities(data)\n",
    "\n",
    "    # 输出前十个 class_capacity 和 999 的数量\n",
    "    print(\"前十节课的 class_capacity:\", capacities[:10])\n",
    "    print(\"class_capacity 为 999 的数量:\", capacity_999_count)\n",
    "\n",
    "count_and_print_top_ten_class_capacities()\n"
   ],
   "metadata": {
    "collapsed": false,
    "ExecuteTime": {
     "end_time": "2024-11-01T06:32:32.387053600Z",
     "start_time": "2024-11-01T06:32:31.653208100Z"
    }
   }
  },
  {
   "cell_type": "code",
   "execution_count": 31,
   "outputs": [
    {
     "name": "stdout",
     "output_type": "stream",
     "text": [
      "不同的 instruction_mode 数量: 1\n",
      "不同的 instruction_mode 值: {'In-Person'}\n"
     ]
    }
   ],
   "source": [
    "import json\n",
    "\n",
    "def count_unique_instruction_modes():\n",
    "    with open(output_file, 'r', encoding='utf-8') as outfile:\n",
    "        data = json.load(outfile)  # 从输出文件读取数据\n",
    "\n",
    "    instruction_modes = set()  # 用于存储唯一的 instruction_mode 值\n",
    "\n",
    "    # 递归查找 section_info 中的 instruction_mode\n",
    "    def find_instruction_modes(obj):\n",
    "        if isinstance(obj, dict):\n",
    "            # 检查并添加 instruction_mode 值\n",
    "            if \"instruction_mode\" in obj:\n",
    "                instruction_modes.add(obj[\"instruction_mode\"])\n",
    "            # 继续遍历子字段\n",
    "            for value in obj.values():\n",
    "                find_instruction_modes(value)\n",
    "        elif isinstance(obj, list):\n",
    "            for item in obj:\n",
    "                find_instruction_modes(item)\n",
    "\n",
    "    # 执行查找\n",
    "    find_instruction_modes(data)\n",
    "\n",
    "    # 输出 instruction_mode 的不同值和总数\n",
    "    print(\"不同的 instruction_mode 数量:\", len(instruction_modes))\n",
    "    print(\"不同的 instruction_mode 值:\", instruction_modes)\n",
    "\n",
    "count_unique_instruction_modes()\n"
   ],
   "metadata": {
    "collapsed": false,
    "ExecuteTime": {
     "end_time": "2024-11-01T06:32:36.272148600Z",
     "start_time": "2024-11-01T06:32:35.534856200Z"
    }
   }
  },
  {
   "cell_type": "code",
   "execution_count": 56,
   "outputs": [
    {
     "name": "stdout",
     "output_type": "stream",
     "text": [
      "[('Min Ye', 0), ('Sorcha Martin', 1), ('Vidhya Kumaresan', 2), ('Max Anzede', 3), ('Roberto Tron', 4), ('Libang Wang', 5), ('Kathleen Corriveau', 6), ('Ava Greene', 7), ('Jeffrey Markuns', 8), ('Aiman Abilova', 9)]\n"
     ]
    }
   ],
   "source": [
    "print(list(professor_mapping.items())[:10])"
   ],
   "metadata": {
    "collapsed": false,
    "ExecuteTime": {
     "end_time": "2024-11-01T07:43:49.044337700Z",
     "start_time": "2024-11-01T07:43:49.030084400Z"
    }
   }
  },
  {
   "cell_type": "code",
   "execution_count": 57,
   "outputs": [
    {
     "name": "stdout",
     "output_type": "stream",
     "text": [
      "Displaying schedule for the first 10 professors:\n",
      "\n",
      "Professor ID 0:\n",
      "  Start Time (in 5-min units): 150, End Time (in 5-min units): 183, Capacity: 23\n",
      "  Start Time (in 5-min units): 114, End Time (in 5-min units): 129, Capacity: 36\n",
      "  Start Time (in 5-min units): 114, End Time (in 5-min units): 129, Capacity: 36\n",
      "  Start Time (in 5-min units): 114, End Time (in 5-min units): 129, Capacity: 10\n",
      "  Start Time (in 5-min units): 114, End Time (in 5-min units): 129, Capacity: 10\n",
      "\n",
      "Professor ID 1:\n",
      "  Start Time (in 5-min units): 150, End Time (in 5-min units): 168, Capacity: 31\n",
      "  Start Time (in 5-min units): 96, End Time (in 5-min units): 117, Capacity: 90\n",
      "  Start Time (in 5-min units): 96, End Time (in 5-min units): 117, Capacity: 90\n",
      "  Start Time (in 5-min units): 122, End Time (in 5-min units): 143, Capacity: 31\n",
      "  Start Time (in 5-min units): 186, End Time (in 5-min units): 204, Capacity: 30\n",
      "  Start Time (in 5-min units): 168, End Time (in 5-min units): 186, Capacity: 29\n",
      "  Start Time (in 5-min units): 114, End Time (in 5-min units): 129, Capacity: 32\n",
      "\n",
      "Professor ID 2:\n",
      "  Start Time (in 5-min units): 180, End Time (in 5-min units): 202, Capacity: 21\n",
      "  Start Time (in 5-min units): 156, End Time (in 5-min units): 178, Capacity: 31\n",
      "  Start Time (in 5-min units): 120, End Time (in 5-min units): 142, Capacity: 55\n",
      "\n",
      "Professor ID 3:\n",
      "  Start Time (in 5-min units): 161, End Time (in 5-min units): 171, Capacity: 5\n",
      "  Start Time (in 5-min units): 174, End Time (in 5-min units): 184, Capacity: 5\n",
      "  Start Time (in 5-min units): 161, End Time (in 5-min units): 171, Capacity: 20\n",
      "  Start Time (in 5-min units): 174, End Time (in 5-min units): 184, Capacity: 20\n",
      "\n",
      "Professor ID 4:\n",
      "  Start Time (in 5-min units): 186, End Time (in 5-min units): 207, Capacity: 50\n",
      "  Start Time (in 5-min units): 186, End Time (in 5-min units): 207, Capacity: 50\n",
      "\n",
      "Professor ID 5:\n",
      "  Start Time (in 5-min units): 187, End Time (in 5-min units): 197, Capacity: 10\n",
      "  Start Time (in 5-min units): 187, End Time (in 5-min units): 197, Capacity: 10\n",
      "\n",
      "Professor ID 6:\n",
      "  Start Time (in 5-min units): 96, End Time (in 5-min units): 129, Capacity: 30\n",
      "\n",
      "Professor ID 7:\n",
      "  Start Time (in 5-min units): 122, End Time (in 5-min units): 132, Capacity: 25\n",
      "  Start Time (in 5-min units): 96, End Time (in 5-min units): 106, Capacity: 25\n",
      "  Start Time (in 5-min units): 109, End Time (in 5-min units): 119, Capacity: 25\n",
      "\n",
      "Professor ID 8:\n",
      "  Start Time (in 5-min units): 216, End Time (in 5-min units): 246, Capacity: 10\n",
      "  Start Time (in 5-min units): 216, End Time (in 5-min units): 240, Capacity: 10\n",
      "  Start Time (in 5-min units): 216, End Time (in 5-min units): 240, Capacity: 10\n",
      "  Start Time (in 5-min units): 216, End Time (in 5-min units): 246, Capacity: 10\n",
      "\n",
      "Professor ID 9:\n",
      "  Start Time (in 5-min units): 148, End Time (in 5-min units): 158, Capacity: 26\n",
      "  Start Time (in 5-min units): 161, End Time (in 5-min units): 171, Capacity: 26\n",
      "  Start Time (in 5-min units): 135, End Time (in 5-min units): 145, Capacity: 26\n"
     ]
    }
   ],
   "source": [
    "def display_sample_professor_schedule(professor_schedule, sample_size=10):\n",
    "    print(f\"Displaying schedule for the first {sample_size} professors:\")\n",
    "    for professor_id in range(sample_size):\n",
    "        if professor_id in professor_schedule:\n",
    "            print(f\"\\nProfessor ID {professor_id}:\")\n",
    "            for schedule in professor_schedule[professor_id]:\n",
    "                start_time, end_time, capacity = schedule\n",
    "                print(f\"  Start Time (in 5-min units): {start_time}, \"\n",
    "                      f\"End Time (in 5-min units): {end_time}, \"\n",
    "                      f\"Capacity: {capacity}\")\n",
    "        else:\n",
    "            print(f\"\\nProfessor ID {professor_id}: No schedule available\")\n",
    "\n",
    "# 假设 professor_schedule 已经根据前面的步骤构建完成\n",
    "display_sample_professor_schedule(professor_schedule)\n"
   ],
   "metadata": {
    "collapsed": false,
    "ExecuteTime": {
     "end_time": "2024-11-01T07:43:51.563276600Z",
     "start_time": "2024-11-01T07:43:51.539125600Z"
    }
   }
  },
  {
   "cell_type": "code",
   "execution_count": 75,
   "outputs": [
    {
     "name": "stdout",
     "output_type": "stream",
     "text": [
      "包含 'CFA 154' 的房间信息: [{'meets': 'Tu 9:00AM - 10:45AM', 'days': 'Tu', 'show_days': True, 'meeting_time_start': '9:00AM', 'meeting_time_end': '10:45AM', 'bldg_cd': 'CFA', 'bldg_has_coordinates': False, 'room': '855 Commonwealth Ave CFA 154', 'meeting_topic': 'TBA', 'instructors': [{'name': 'Samuel Bradley', 'email': ''}], 'topic': 'TBA', 'show_topic': False, 'date_range': '09/03/2024 - 12/10/2024'}, {'meets': 'TuTh 12:30PM - 1:45PM', 'days': 'TuTh', 'show_days': True, 'meeting_time_start': '12:30PM', 'meeting_time_end': '1:45PM', 'bldg_cd': 'CFA', 'bldg_has_coordinates': False, 'room': '855 Commonwealth Ave CFA 154', 'meeting_topic': 'TBA', 'instructors': [{'name': 'Victor Coelho', 'email': ''}], 'topic': 'TBA', 'show_topic': False, 'date_range': '09/03/2024 - 12/10/2024'}, {'meets': 'MoWeTh 8:00AM - 8:50AM', 'days': 'MoWeTh', 'show_days': True, 'meeting_time_start': '8:00AM', 'meeting_time_end': '8:50AM', 'bldg_cd': 'CFA', 'bldg_has_coordinates': False, 'room': '855 Commonwealth Ave CFA 154', 'meeting_topic': 'TBA', 'instructors': [{'name': 'Vartan Aghababian', 'email': ''}], 'topic': 'TBA', 'show_topic': False, 'date_range': '09/03/2024 - 12/10/2024'}, {'meets': 'Sa 10:00AM - 5:00PM', 'days': 'Sa', 'show_days': True, 'meeting_time_start': '10:00AM', 'meeting_time_end': '5:00PM', 'bldg_cd': 'CFA', 'bldg_has_coordinates': False, 'room': '855 Commonwealth Ave CFA 154', 'meeting_topic': 'TBA', 'instructors': [{'name': 'Samuel Bradley', 'email': ''}], 'topic': 'TBA', 'show_topic': False, 'date_range': '12/07/2024 - 12/07/2024'}, {'meets': 'We 4:30PM - 6:15PM', 'days': 'We', 'show_days': True, 'meeting_time_start': '4:30PM', 'meeting_time_end': '6:15PM', 'bldg_cd': 'CFA', 'bldg_has_coordinates': False, 'room': '855 Commonwealth Ave CFA 154', 'meeting_topic': 'TBA', 'instructors': [{'name': 'Pamela Feo', 'email': ''}], 'topic': 'TBA', 'show_topic': False, 'date_range': '09/03/2024 - 12/10/2024'}, {'meets': 'Mo 2:30PM - 5:15PM', 'days': 'Mo', 'show_days': True, 'meeting_time_start': '2:30PM', 'meeting_time_end': '5:15PM', 'bldg_cd': 'CFA', 'bldg_has_coordinates': False, 'room': '855 Commonwealth Ave CFA 154', 'meeting_topic': 'TBA', 'instructors': [{'name': 'David Schulenberg', 'email': ''}], 'topic': 'TBA', 'show_topic': False, 'date_range': '09/03/2024 - 12/10/2024'}, {'meets': 'MoWe 11:15AM - 12:05PM', 'days': 'MoWe', 'show_days': True, 'meeting_time_start': '11:15AM', 'meeting_time_end': '12:05PM', 'bldg_cd': 'CFA', 'bldg_has_coordinates': False, 'room': '855 Commonwealth Ave CFA 154', 'meeting_topic': 'TBA', 'instructors': [{'name': 'Andrew Smith', 'email': ''}], 'topic': 'TBA', 'show_topic': False, 'date_range': '09/03/2024 - 12/10/2024'}, {'meets': 'Tu 9:00AM - 10:45AM', 'days': 'Tu', 'show_days': True, 'meeting_time_start': '9:00AM', 'meeting_time_end': '10:45AM', 'bldg_cd': 'CFA', 'bldg_has_coordinates': False, 'room': '855 Commonwealth Ave CFA 154', 'meeting_topic': 'TBA', 'instructors': [{'name': 'Samuel Bradley', 'email': ''}], 'topic': 'TBA', 'show_topic': False, 'date_range': '09/03/2024 - 12/10/2024'}]\n"
     ]
    }
   ],
   "source": [
    "import json\n",
    "\n",
    "def find_room(keyword):\n",
    "    with open(output_file, 'r', encoding='utf-8') as infile:\n",
    "        data = json.load(infile)\n",
    "\n",
    "    rooms_with_keyword = []  # 存储包含指定关键词的 meeting 项\n",
    "\n",
    "    # 递归查找 meetings 中 room 包含关键词的项\n",
    "    def search_meetings(obj):\n",
    "        if isinstance(obj, dict):\n",
    "            # 查找 meetings 中的 room 字段\n",
    "            if \"meetings\" in obj:\n",
    "                for meeting in obj[\"meetings\"]:\n",
    "                    if \"room\" in meeting and keyword in meeting[\"room\"]:  # 部分匹配\n",
    "                        rooms_with_keyword.append(meeting)\n",
    "            # 继续遍历子字段\n",
    "            for value in obj.values():\n",
    "                search_meetings(value)\n",
    "        elif isinstance(obj, list):\n",
    "            for item in obj:\n",
    "                search_meetings(item)\n",
    "\n",
    "    # 执行查找\n",
    "    search_meetings(data)\n",
    "\n",
    "    # 输出结果\n",
    "    print(f\"包含 '{keyword}' 的房间信息:\", rooms_with_keyword)\n",
    "    return rooms_with_keyword\n",
    "\n",
    "# 示例调用\n",
    "rooms = find_room(\"CFA 154\")\n"
   ],
   "metadata": {
    "collapsed": false,
    "ExecuteTime": {
     "end_time": "2024-11-01T08:10:19.565148700Z",
     "start_time": "2024-11-01T08:10:18.583457600Z"
    }
   }
  },
  {
   "cell_type": "markdown",
   "source": [
    "<h1>数据提取类</h1>"
   ],
   "metadata": {
    "collapsed": false
   }
  },
  {
   "cell_type": "markdown",
   "source": [
    "<h2>capacities: 所有教室容量的一维整数数组</h2><br>"
   ],
   "metadata": {
    "collapsed": false
   }
  },
  {
   "cell_type": "code",
   "execution_count": 52,
   "outputs": [],
   "source": [
    "import json\n",
    "\n",
    "def extract_capacity_from_additional_info():\n",
    "    with open(classroom_json, 'r', encoding='utf-8') as infile:\n",
    "        data = json.load(infile)  # 从指定路径读取 JSON 文件\n",
    "\n",
    "    capacities = []  # 用于存储所有的 Capacity 值\n",
    "\n",
    "    # 递归查找 AdditionalInfo 中的 Capacity\n",
    "    def find_capacity(obj):\n",
    "        if isinstance(obj, dict):\n",
    "            # 检查并提取 Capacity 值并转换为整数\n",
    "            if \"AdditionalInfo\" in obj and \"Capacity\" in obj[\"AdditionalInfo\"]:\n",
    "                try:\n",
    "                    capacities.append(int(obj[\"AdditionalInfo\"][\"Capacity\"]))\n",
    "                except ValueError:\n",
    "                    pass  # 忽略无法转换为整数的值\n",
    "            # 继续遍历子字段\n",
    "            for value in obj.values():\n",
    "                find_capacity(value)\n",
    "        elif isinstance(obj, list):\n",
    "            for item in obj:\n",
    "                find_capacity(item)\n",
    "\n",
    "    # 执行查找\n",
    "    find_capacity(data)\n",
    "\n",
    "    # 输出结果为 Python 整数列表\n",
    "    # print(\"Capacity 整数列表:\", capacities)\n",
    "    return capacities\n",
    "\n",
    "capacities = extract_capacity_from_additional_info()"
   ],
   "metadata": {
    "collapsed": false,
    "ExecuteTime": {
     "end_time": "2024-11-01T07:43:31.458555400Z",
     "start_time": "2024-11-01T07:43:31.416844600Z"
    }
   }
  },
  {
   "cell_type": "markdown",
   "source": [
    "<h2>name_capacity_dict: 教室名与容量的key-value pair</h2><br>"
   ],
   "metadata": {
    "collapsed": false
   }
  },
  {
   "cell_type": "code",
   "execution_count": 53,
   "outputs": [],
   "source": [
    "import json\n",
    "\n",
    "def extract_name_capacity_dict():\n",
    "    with open(classroom_json, 'r', encoding='utf-8') as infile:\n",
    "        data = json.load(infile)  # 从指定路径读取 JSON 文件\n",
    "\n",
    "    name_capacity_dict = {}  # 用于存储 Name 和 Capacity 的键值对\n",
    "\n",
    "    # 递归查找 Name 和 AdditionalInfo 中的 Capacity\n",
    "    def find_name_capacity(obj):\n",
    "        if isinstance(obj, dict):\n",
    "            # 检查并提取 Name 和 Capacity\n",
    "            if \"Name\" in obj and \"AdditionalInfo\" in obj and \"Capacity\" in obj[\"AdditionalInfo\"]:\n",
    "                try:\n",
    "                    name_capacity_dict[obj[\"Name\"]] = int(obj[\"AdditionalInfo\"][\"Capacity\"])\n",
    "                except ValueError:\n",
    "                    pass  # 忽略无法转换为整数的 Capacity 值\n",
    "            # 继续遍历子字段\n",
    "            for value in obj.values():\n",
    "                find_name_capacity(value)\n",
    "        elif isinstance(obj, list):\n",
    "            for item in obj:\n",
    "                find_name_capacity(item)\n",
    "\n",
    "    # 执行查找\n",
    "    find_name_capacity(data)\n",
    "\n",
    "    # 输出结果为 Python 词典\n",
    "    # print(\"Name-Capacity 词典:\", name_capacity_dict)\n",
    "    return name_capacity_dict\n",
    "\n",
    "name_capacity_dict = extract_name_capacity_dict()\n"
   ],
   "metadata": {
    "collapsed": false,
    "ExecuteTime": {
     "end_time": "2024-11-01T07:43:32.704389200Z",
     "start_time": "2024-11-01T07:43:32.680634Z"
    }
   }
  },
  {
   "cell_type": "markdown",
   "source": [
    "<h2>professor_mapping: 教授-id的字典</h2><br>"
   ],
   "metadata": {
    "collapsed": false
   }
  },
  {
   "cell_type": "code",
   "execution_count": 54,
   "outputs": [],
   "source": [
    "import json\n",
    "\n",
    "def extract_professor_mapping():\n",
    "    with open(output_file, 'r', encoding='utf-8') as infile:\n",
    "        data = json.load(infile)  # 从输出文件读取数据\n",
    "\n",
    "    professor_mapping = {}\n",
    "    professor_id_counter = 0\n",
    "\n",
    "    # 递归查找 meetings 中的 instructors 名字\n",
    "    def find_instructors(obj):\n",
    "        nonlocal professor_id_counter\n",
    "        if isinstance(obj, dict):\n",
    "            # 检查并提取 instructors 名字\n",
    "            if \"meetings\" in obj:\n",
    "                for meeting in obj[\"meetings\"]:\n",
    "                    if \"instructors\" in meeting:\n",
    "                        for instructor in meeting[\"instructors\"]:\n",
    "                            name = instructor.get(\"name\")\n",
    "                            # 为每个新教授分配一个唯一 ID\n",
    "                            if name and name not in professor_mapping:\n",
    "                                professor_mapping[name] = professor_id_counter\n",
    "                                professor_id_counter += 1\n",
    "            # 继续遍历子字段\n",
    "            for value in obj.values():\n",
    "                find_instructors(value)\n",
    "        elif isinstance(obj, list):\n",
    "            for item in obj:\n",
    "                find_instructors(item)\n",
    "\n",
    "    # 执行查找\n",
    "    find_instructors(data)\n",
    "\n",
    "    # 输出教授映射表\n",
    "    # print(\"教授映射表:\", professor_mapping)\n",
    "    return professor_mapping\n",
    "\n",
    "professor_mapping = extract_professor_mapping()\n"
   ],
   "metadata": {
    "collapsed": false,
    "ExecuteTime": {
     "end_time": "2024-11-01T07:43:34.961722100Z",
     "start_time": "2024-11-01T07:43:34.084197Z"
    }
   }
  },
  {
   "cell_type": "markdown",
   "source": [
    "<h2>professor_schedule: 教授上课信息 词典</h2><br>"
   ],
   "metadata": {
    "collapsed": false
   }
  },
  {
   "cell_type": "code",
   "execution_count": 72,
   "outputs": [],
   "source": [
    "import json\n",
    "from datetime import datetime\n",
    "\n",
    "def build_professor_schedule():\n",
    "    with open(output_file, 'r', encoding='utf-8') as infile:\n",
    "        data = json.load(infile)\n",
    "\n",
    "    professor_schedule = {}\n",
    "\n",
    "    # 将星期缩写映射为数字，以便记录每天的上课信息\n",
    "    day_mapping = {\n",
    "        \"Mo\": 0, \"Tu\": 1, \"We\": 2, \"Th\": 3, \"Fr\": 4, \"Sa\": 5, \"Su\": 6\n",
    "    }\n",
    "\n",
    "    # 解析时间为分钟并整除5\n",
    "    def parse_time(time_str):\n",
    "        time_obj = datetime.strptime(time_str, \"%I:%M%p\")  # 解析时间\n",
    "        minutes = time_obj.hour * 60 + time_obj.minute\n",
    "        return minutes // 5\n",
    "\n",
    "    # 递归查找 meetings 并构建教授的课程安排\n",
    "    def find_meetings(obj):\n",
    "        if isinstance(obj, dict):\n",
    "            # 提取教授及课程信息\n",
    "            if \"meetings\" in obj and \"class_availability\" in obj:\n",
    "                # 将 capacity 转换为整数格式\n",
    "                capacity = obj[\"class_availability\"].get(\"class_capacity\")\n",
    "                if capacity is not None:\n",
    "                    capacity = int(capacity)  # 转换为整数\n",
    "\n",
    "                for meeting in obj[\"meetings\"]:\n",
    "                    if \"instructors\" in meeting and \"days\" in meeting and \"meeting_time_start\" in meeting and \"meeting_time_end\" in meeting:\n",
    "                        # 提取上课时间\n",
    "                        start_time = parse_time(meeting[\"meeting_time_start\"])\n",
    "                        end_time = parse_time(meeting[\"meeting_time_end\"])\n",
    "\n",
    "                        # 提取上课天数并处理\n",
    "                        days_str = meeting[\"days\"]\n",
    "                        days = [day_mapping[days_str[i:i+2]] for i in range(0, len(days_str), 2) if days_str[i:i+2] in day_mapping]\n",
    "\n",
    "                        # 为每位教授记录课程信息\n",
    "                        for instructor in meeting[\"instructors\"]:\n",
    "                            professor_name = instructor.get(\"name\")\n",
    "                            professor_id = professor_mapping.get(professor_name)\n",
    "\n",
    "                            if professor_id is not None:\n",
    "                                if professor_id not in professor_schedule:\n",
    "                                    professor_schedule[professor_id] = []\n",
    "                                # 将每天的课程信息存入 professor_schedule\n",
    "                                for day in days:\n",
    "                                    professor_schedule[professor_id].append((start_time, end_time, capacity))\n",
    "\n",
    "            # 继续遍历子字段\n",
    "            for value in obj.values():\n",
    "                find_meetings(value)\n",
    "        elif isinstance(obj, list):\n",
    "            for item in obj:\n",
    "                find_meetings(item)\n",
    "\n",
    "    # 执行查找\n",
    "    find_meetings(data)\n",
    "\n",
    "    # 输出结果\n",
    "    # print(\"教授课程信息词典:\", professor_schedule)\n",
    "    return professor_schedule\n",
    "\n",
    "# 假设之前生成的教授映射表 professor_mapping 已存在\n",
    "professor_schedule = build_professor_schedule()"
   ],
   "metadata": {
    "collapsed": false,
    "ExecuteTime": {
     "end_time": "2024-11-01T08:07:06.679081500Z",
     "start_time": "2024-11-01T08:07:05.396350100Z"
    }
   }
  },
  {
   "cell_type": "markdown",
   "source": [
    "<h2>classroom_mapping: 教室mapping</h2><br>"
   ],
   "metadata": {
    "collapsed": false
   }
  },
  {
   "cell_type": "code",
   "execution_count": 79,
   "outputs": [],
   "source": [
    "import json\n",
    "\n",
    "def create_classroom_mapping():\n",
    "    with open(classroom_json, 'r', encoding='utf-8') as infile:\n",
    "        data = json.load(infile)\n",
    "\n",
    "    classroom_mapping = {}\n",
    "    classroom_id_counter = 0\n",
    "\n",
    "    # 递归查找 Name 字段，创建映射表\n",
    "    def find_classrooms(obj):\n",
    "        nonlocal classroom_id_counter\n",
    "        if isinstance(obj, dict):\n",
    "            if \"Name\" in obj:\n",
    "                classroom_name = obj[\"Name\"]\n",
    "                # 如果该教室名称尚未在映射表中，则添加\n",
    "                if classroom_name not in classroom_mapping:\n",
    "                    classroom_mapping[classroom_name] = classroom_id_counter\n",
    "                    classroom_id_counter += 1\n",
    "            # 继续遍历子字段\n",
    "            for value in obj.values():\n",
    "                find_classrooms(value)\n",
    "        elif isinstance(obj, list):\n",
    "            for item in obj:\n",
    "                find_classrooms(item)\n",
    "\n",
    "    # 执行查找\n",
    "    find_classrooms(data)\n",
    "\n",
    "    # 输出教室映射表\n",
    "    # print(\"教室映射表:\", classroom_mapping)\n",
    "    return classroom_mapping\n",
    "\n",
    "# 创建教室映射表\n",
    "classroom_mapping = create_classroom_mapping()\n"
   ],
   "metadata": {
    "collapsed": false,
    "ExecuteTime": {
     "end_time": "2024-11-01T08:14:33.067275200Z",
     "start_time": "2024-11-01T08:14:33.038518Z"
    }
   }
  },
  {
   "cell_type": "code",
   "execution_count": null,
   "outputs": [],
   "source": [],
   "metadata": {
    "collapsed": false
   }
  },
  {
   "cell_type": "code",
   "execution_count": 80,
   "outputs": [
    {
     "name": "stdout",
     "output_type": "stream",
     "text": [
      "教授 0 在教室 1 的时间段 100 使用情况: False\n"
     ]
    }
   ],
   "source": [
    "import numpy as np\n",
    "\n",
    "# 假设存在教授映射和教室映射，以及教授的课程表\n",
    "# professor_mapping = {\"Professor A\": 0, \"Professor B\": 1, ...}\n",
    "# classroom_mapping = {\"Room A\": 0, \"Room B\": 1, ...}\n",
    "# professor_schedule = {0: [(start_time, end_time, capacity), ...], 1: [...], ...}\n",
    "\n",
    "# 初始化布尔数组：假设有 N 名教授，M 个教室，T 个时间段\n",
    "N = len(professor_mapping)\n",
    "M = len(classroom_mapping)\n",
    "T = 24 * 60 // 5  # 例如将一天分成 5 分钟的时间段\n",
    "\n",
    "professor_courses = np.zeros((N, M, T), dtype=bool)\n",
    "\n",
    "# 更新布尔数组，根据教授课程安排设置占用情况\n",
    "for professor_name, professor_id in professor_mapping.items():\n",
    "    if professor_id in professor_schedule:\n",
    "        for start_time, end_time, room_name in professor_schedule[professor_id]:\n",
    "            # 获取教室 ID\n",
    "            if room_name in classroom_mapping:\n",
    "                room_id = classroom_mapping[room_name]\n",
    "\n",
    "                # 计算时间段范围（开始和结束时间以 5 分钟为单位）\n",
    "                start_k = start_time\n",
    "                end_k = end_time\n",
    "\n",
    "                # 设置对应时间段为 True\n",
    "                for k in range(start_k, end_k):\n",
    "                    professor_courses[professor_id][room_id][k] = True\n",
    "\n",
    "# 示例输出：打印特定教授在特定教室和时间段的使用情况\n",
    "p = 0  # 示例教授 ID\n",
    "i = 1  # 示例教室 ID\n",
    "k = 100  # 示例时间段\n",
    "print(f\"教授 {p} 在教室 {i} 的时间段 {k} 使用情况:\", professor_courses[p][i][k])\n"
   ],
   "metadata": {
    "collapsed": false,
    "ExecuteTime": {
     "end_time": "2024-11-01T08:16:00.552491500Z",
     "start_time": "2024-11-01T08:16:00.466301700Z"
    }
   }
  }
 ],
 "metadata": {
  "kernelspec": {
   "display_name": "Python 3",
   "language": "python",
   "name": "python3"
  },
  "language_info": {
   "codemirror_mode": {
    "name": "ipython",
    "version": 2
   },
   "file_extension": ".py",
   "mimetype": "text/x-python",
   "name": "python",
   "nbconvert_exporter": "python",
   "pygments_lexer": "ipython2",
   "version": "2.7.6"
  }
 },
 "nbformat": 4,
 "nbformat_minor": 0
}
