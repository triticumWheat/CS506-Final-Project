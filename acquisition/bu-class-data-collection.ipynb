{
 "cells": [
  {
   "cell_type": "code",
   "execution_count": null,
   "metadata": {
    "_cell_guid": "b1076dfc-b9ad-4769-8c92-a6c4dae69d19",
    "_uuid": "8f2839f25d086af736a60e9eeb907d3b93b6e0e5",
    "execution": {
     "iopub.execute_input": "2024-10-31T17:23:09.957370Z",
     "iopub.status.busy": "2024-10-31T17:23:09.956948Z",
     "iopub.status.idle": "2024-10-31T17:23:09.963267Z",
     "shell.execute_reply": "2024-10-31T17:23:09.962056Z",
     "shell.execute_reply.started": "2024-10-31T17:23:09.957329Z"
    },
    "trusted": true
   },
   "outputs": [],
   "source": [
    "import os\n",
    "import requests\n",
    "import pandas as pd\n",
    "import json\n",
    "from concurrent.futures import ThreadPoolExecutor, as_completed"
   ]
  },
  {
   "cell_type": "code",
   "execution_count": null,
   "metadata": {
    "_cell_guid": "b1076dfc-b9ad-4769-8c92-a6c4dae69d19",
    "_uuid": "8f2839f25d086af736a60e9eeb907d3b93b6e0e5",
    "execution": {
     "iopub.execute_input": "2024-10-31T17:23:09.966006Z",
     "iopub.status.busy": "2024-10-31T17:23:09.965245Z",
     "iopub.status.idle": "2024-10-31T17:23:09.980866Z",
     "shell.execute_reply": "2024-10-31T17:23:09.979684Z",
     "shell.execute_reply.started": "2024-10-31T17:23:09.965963Z"
    },
    "trusted": true
   },
   "outputs": [],
   "source": [
    "def dowload_entries_data_on_pages(pages):\n",
    "    folder_path = \"json_entries_cache\"\n",
    "    os.makedirs(folder_path, exist_ok=True)\n",
    "\n",
    "    for page in pages:\n",
    "        file_path = os.path.join(folder_path, f\"page_{page}.json\")\n",
    "        \n",
    "        if os.path.exists(file_path):\n",
    "            # print(f\"File for page {page} already exists.\")\n",
    "            continue\n",
    "        \n",
    "        url = f\"https://public.mybustudent.bu.edu/psc/BUPRD/EMPLOYEE/SA/s/WEBLIB_HCX_CM.H_CLASS_SEARCH.FieldFormula.IScript_ClassSearch?institution=BU001&term=2248&page={page}\"\n",
    "        response = requests.get(url)\n",
    "        \n",
    "        if response.status_code == 200:\n",
    "            try:\n",
    "                json_data = response.json()\n",
    "                if isinstance(json_data, list) and all(\n",
    "                    isinstance(item, dict) and\n",
    "                    \"index\" in item and isinstance(item[\"index\"], int) and\n",
    "                    \"crse_id\" in item and isinstance(item[\"crse_id\"], str) and\n",
    "                    \"crse_offer_nbr\" in item and isinstance(item[\"crse_offer_nbr\"], int) and\n",
    "                    \"strm\" in item and isinstance(item[\"strm\"], str) and\n",
    "                    \"session_code\" in item and isinstance(item[\"session_code\"], str)\n",
    "                    for item in json_data\n",
    "                ) and len(json_data) > 0:\n",
    "                    with open(file_path, 'w') as f:\n",
    "                        json.dump(json_data, f)\n",
    "                    print(f\"Saved JSON for page {page} to {file_path}\")\n",
    "                else:\n",
    "                    print(f\"Invalid JSON format for page {page}\")\n",
    "            except json.JSONDecodeError:\n",
    "                print(f\"Invalid JSON format for page {page}\")\n",
    "        else:\n",
    "            print(f\"Failed to fetch page {page}: {response.status_code}\")\n",
    "\n",
    "\n",
    "def combine_entries_json():\n",
    "    folder_path = \"json_entries_cache\"\n",
    "    data = []\n",
    "    for filename in os.listdir(folder_path):\n",
    "        if filename.endswith(\".json\"):\n",
    "            file_path = os.path.join(folder_path, filename)\n",
    "            with open(file_path, 'r') as f:\n",
    "                json_data = json.load(f)\n",
    "                data.extend(json_data)\n",
    "    return data"
   ]
  },
  {
   "cell_type": "code",
   "execution_count": null,
   "metadata": {
    "execution": {
     "iopub.execute_input": "2024-10-31T17:54:56.946662Z",
     "iopub.status.busy": "2024-10-31T17:54:56.946212Z",
     "iopub.status.idle": "2024-10-31T17:54:56.959979Z",
     "shell.execute_reply": "2024-10-31T17:54:56.958844Z",
     "shell.execute_reply.started": "2024-10-31T17:54:56.946619Z"
    },
    "trusted": true
   },
   "outputs": [],
   "source": [
    "def dowload_details_data_of_class_nbr(class_nbr):\n",
    "    folder_path = \"json_details_cache\"\n",
    "    os.makedirs(folder_path, exist_ok=True)\n",
    "\n",
    "    file_path = os.path.join(folder_path, f\"class_nbr_{class_nbr}.json\")\n",
    "\n",
    "    if os.path.exists(file_path):\n",
    "        # print(f\"File for class_nbr {class_nbr} already exists.\")\n",
    "        return\n",
    "\n",
    "    url = f\"https://public.mybustudent.bu.edu/psc/BUPRD/EMPLOYEE/SA/s/WEBLIB_HCX_CM.H_CLASS_SEARCH.FieldFormula.IScript_ClassDetails?institution=BU001&term=2248&class_nbr={class_nbr}\"\n",
    "    response = requests.get(url)\n",
    "\n",
    "    if response.status_code == 200:\n",
    "        try:\n",
    "            json_data = response.json()\n",
    "            if isinstance(json_data, dict) and \"section_info\" in json_data and isinstance(json_data[\"section_info\"], dict) and len(json_data) > 0:\n",
    "                with open(file_path, 'w') as f:\n",
    "                    json.dump(json_data, f)\n",
    "                print(f\"Saved JSON for class_nbr {class_nbr} to {file_path}\")\n",
    "            else:\n",
    "                print(f\"Invalid JSON format for class_nbr {class_nbr}\")\n",
    "        except json.JSONDecodeError:\n",
    "            print(f\"Invalid JSON format for class_nbr {class_nbr}\")\n",
    "    else:\n",
    "        print(f\"Failed to fetch details of class_nbr {class_nbr}: {response.status_code}\")\n",
    "            \n",
    "def dowload_details_data_of_class_nbrs(class_nbrs):\n",
    "    with ThreadPoolExecutor() as executor:\n",
    "        futures = [executor.submit(dowload_details_data_of_class_nbr, class_nbr) for class_nbr in class_nbrs]\n",
    "        for future in as_completed(futures):\n",
    "            future.result()\n",
    "            \n",
    "def combine_details_json():\n",
    "    folder_path = \"json_details_cache\"\n",
    "    data = []\n",
    "    for filename in os.listdir(folder_path):\n",
    "        if filename.endswith(\".json\"):\n",
    "            file_path = os.path.join(folder_path, filename)\n",
    "            with open(file_path, 'r') as f:\n",
    "                json_data = json.load(f)\n",
    "                data.append(json_data)\n",
    "    return data"
   ]
  },
  {
   "cell_type": "code",
   "execution_count": null,
   "metadata": {
    "_cell_guid": "b1076dfc-b9ad-4769-8c92-a6c4dae69d19",
    "_uuid": "8f2839f25d086af736a60e9eeb907d3b93b6e0e5",
    "collapsed": true,
    "execution": {
     "iopub.execute_input": "2024-10-31T17:23:10.002168Z",
     "iopub.status.busy": "2024-10-31T17:23:10.001775Z"
    },
    "jupyter": {
     "outputs_hidden": true
    },
    "trusted": true
   },
   "outputs": [],
   "source": [
    "pages = [i for i in range(0, 135)] # Page 1 to 133 are valid\n",
    "\n",
    "dowload_entries_data_on_pages(pages)\n",
    "entries = combine_entries_json()\n",
    "\n",
    "with open(\"entries.json\", \"w\") as f:\n",
    "    json.dump(entries, f)"
   ]
  },
  {
   "cell_type": "code",
   "execution_count": null,
   "metadata": {
    "execution": {
     "iopub.execute_input": "2024-10-31T17:55:00.925284Z",
     "iopub.status.busy": "2024-10-31T17:55:00.924847Z",
     "iopub.status.idle": "2024-10-31T17:55:10.455691Z",
     "shell.execute_reply": "2024-10-31T17:55:10.454469Z",
     "shell.execute_reply.started": "2024-10-31T17:55:00.925239Z"
    },
    "trusted": true
   },
   "outputs": [],
   "source": [
    "if entries == None:\n",
    "    with open(\"entries.json\", \"r\") as f:\n",
    "        entries = json.loads(f.read())\n",
    "\n",
    "class_nbrs = [item[\"class_nbr\"] for item in entries]\n",
    "\n",
    "dowload_details_data_of_class_nbrs(class_nbrs)\n",
    "details = combine_details_json()\n",
    "\n",
    "with open(\"details.json\", \"w\") as f:\n",
    "    json.dump(details, f)"
   ]
  }
 ],
 "metadata": {
  "kaggle": {
   "accelerator": "none",
   "dataSources": [],
   "dockerImageVersionId": 30786,
   "isGpuEnabled": false,
   "isInternetEnabled": true,
   "language": "python",
   "sourceType": "notebook"
  },
  "kernelspec": {
   "display_name": "Python 3",
   "language": "python",
   "name": "python3"
  },
  "language_info": {
   "codemirror_mode": {
    "name": "ipython",
    "version": 3
   },
   "file_extension": ".py",
   "mimetype": "text/x-python",
   "name": "python",
   "nbconvert_exporter": "python",
   "pygments_lexer": "ipython3",
   "version": "3.10.14"
  }
 },
 "nbformat": 4,
 "nbformat_minor": 4
}
