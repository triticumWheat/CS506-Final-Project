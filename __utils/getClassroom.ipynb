{
 "cells": [
  {
   "cell_type": "markdown",
   "source": [
    "<h1>Get All Classroom Links</h1>"
   ],
   "metadata": {
    "collapsed": false
   }
  },
  {
   "cell_type": "code",
   "execution_count": null,
   "metadata": {
    "collapsed": true
   },
   "outputs": [],
   "source": [
    "import requests\n",
    "from bs4 import BeautifulSoup\n",
    "import csv\n",
    "base_url = \"https://www.bu.edu/classrooms/find-a-classroom/page/{}/?cts_address&cts_capacity_lfa&cts_capacity&cts_filter_submit=Search\"\n",
    "with open('../data/classroom_links.csv', mode='w', newline='', encoding='utf-8') as file:\n",
    "    writer = csv.writer(file)\n",
    "    writer.writerow(['Link'])\n",
    "    page = 1\n",
    "    while True:\n",
    "        url = base_url.format(page)\n",
    "        response = requests.get(url)\n",
    "        html_content = response.content\n",
    "        soup = BeautifulSoup(html_content, 'html.parser')\n",
    "        error_message = soup.find('p', class_='cts-error')\n",
    "        if error_message:\n",
    "            print(f\" {page} is empty, stopping...\")\n",
    "            break\n",
    "        results_list = soup.find('ul', class_='cts-results-list')\n",
    "        if results_list:\n",
    "            li_items = results_list.find_all('li')\n",
    "            for li in li_items:\n",
    "                link_tag = li.find('a', class_='cts-button cts-button-primary')\n",
    "                if link_tag and link_tag.get('href'):\n",
    "                    classroom_link = link_tag['href']\n",
    "                    writer.writerow([classroom_link])\n",
    "        print(f\" {page} finished。\")\n",
    "        page += 1\n",
    "\n",
    "print(\"stored into 'classroom_links.csv'\")"
   ]
  },
  {
   "cell_type": "markdown",
   "source": [
    "<h1>Getting Data For Each Classroom</h1>"
   ],
   "metadata": {
    "collapsed": false
   }
  },
  {
   "cell_type": "code",
   "execution_count": null,
   "metadata": {},
   "outputs": [],
   "source": [
    "import requests\n",
    "from bs4 import BeautifulSoup\n",
    "import csv\n",
    "import json\n",
    "\n",
    "urls = []\n",
    "with open('../data/classroom_links.csv', mode='r', encoding='utf-8') as file:\n",
    "    reader = csv.reader(file)\n",
    "    next(reader)\n",
    "    for row in reader:\n",
    "        urls.append(row[0])\n",
    "classroom_data = []\n",
    "for url in urls:\n",
    "    response = requests.get(url)\n",
    "    html_content = response.content\n",
    "    soup = BeautifulSoup(html_content, 'html.parser')\n",
    "    name = soup.find('div', class_='content-panel').find('h1').get_text().strip()\n",
    "    detail_container = soup.find('div', class_='cts-detail-container')\n",
    "    details = detail_container.find_all('div', class_='cts-detail-details')\n",
    "    classroom_info = {\n",
    "        \"Name\": name,\n",
    "        \"Details\": {},\n",
    "        \"AdditionalInfo\": {}\n",
    "    }\n",
    "    first_detail = details[0] if len(details) > 0 else None\n",
    "    if first_detail:\n",
    "        h4_elements = first_detail.find_all('h4')\n",
    "        for h4 in h4_elements:\n",
    "            h4_title = h4.get_text().strip()\n",
    "            ul_list = h4.find_next('ul', class_='cts-detail-list')\n",
    "            if ul_list:\n",
    "                li_items = ul_list.find_all('li')\n",
    "                li_texts = []\n",
    "                for li in li_items:\n",
    "                    li_text = li.get_text(strip=True).replace(li.find('span').get_text(strip=True), \"\").strip()\n",
    "                    li_texts.append(li_text)\n",
    "                classroom_info[\"Details\"][h4_title] = li_texts\n",
    "    second_detail = details[1] if len(details) > 1 else None\n",
    "    if second_detail:\n",
    "        li_items = second_detail.find_all('li')\n",
    "        for li in li_items:\n",
    "            meta_name = li.find('span', class_='meta-name').get_text(strip=True)\n",
    "            meta_value = li.find('span', class_='meta-value').get_text(strip=True)\n",
    "            classroom_info[\"AdditionalInfo\"][meta_name] = meta_value\n",
    "    classroom_data.append(classroom_info)\n",
    "\n",
    "with open('../data/classroom_data.json', 'w', encoding='utf-8') as json_file:\n",
    "    json.dump(classroom_data, json_file, ensure_ascii=False, indent=4)\n",
    "\n",
    "print(\"stored in 'classroom_data.json'\")\n"
   ]
  }
 ],
 "metadata": {
  "kernelspec": {
   "display_name": "Python 3 (ipykernel)",
   "language": "python",
   "name": "python3"
  },
  "language_info": {
   "codemirror_mode": {
    "name": "ipython",
    "version": 3
   },
   "file_extension": ".py",
   "mimetype": "text/x-python",
   "name": "python",
   "nbconvert_exporter": "python",
   "pygments_lexer": "ipython3",
   "version": "3.10.14"
  }
 },
 "nbformat": 4,
 "nbformat_minor": 1
}
